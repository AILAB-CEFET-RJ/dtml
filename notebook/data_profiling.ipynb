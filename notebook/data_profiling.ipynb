{
 "cells": [
  {
   "cell_type": "markdown",
   "id": "54a49ae9",
   "metadata": {},
   "source": [
    "Separando ações de interesse"
   ]
  },
  {
   "cell_type": "code",
   "execution_count": 7,
   "id": "9226b400-0980-4b30-8449-19fda416cd30",
   "metadata": {},
   "outputs": [],
   "source": [
    "import os\n",
    "import pandas as pd\n",
    "\n",
    "input_path = os.path.join('df_final.csv')"
   ]
  },
  {
   "cell_type": "markdown",
   "id": "ac5760dc",
   "metadata": {},
   "source": [
    "Convertendo para os tipos adequados"
   ]
  },
  {
   "cell_type": "code",
   "execution_count": 13,
   "id": "573f907b-a59a-4c3c-a038-b4c4c3fdae94",
   "metadata": {},
   "outputs": [
    {
     "name": "stdout",
     "output_type": "stream",
     "text": [
      "File_Date                datetime64[ns]\n",
      "Company                          object\n",
      "Shares_Top_of_Book              float64\n",
      "Prices_Top_of_Book              float64\n",
      "Price_of_One_Share              float64\n",
      "Number_of_Shares_Sold           float64\n",
      "Transaction_type               category\n",
      "Datetime                 datetime64[ns]\n",
      "dtype: object\n"
     ]
    }
   ],
   "source": [
    "df = pd.read_csv(input_path, sep=\",\", parse_dates=[\"File_Date\"], index_col=False)\n",
    "df = df.drop([\"Unnamed: 0\"], axis=1)\n",
    "\n",
    "df[\"Date\"] = df[\"Date\"].astype(str)\n",
    "df[\"Time\"] = df[\"Time\"].astype(str)\n",
    "df[\"Datetime\"] = df[\"Date\"] + \" \" + df[\"Time\"]\n",
    "df = df.drop([\"Date\", \"Time\"], axis=1)\n",
    "\n",
    "df = df.dropna()\n",
    "df = df[df[\"Company\"] == \"APPLE INC COM\"]\n",
    "\n",
    "df[\"Datetime\"] = pd.to_datetime(df[\"Datetime\"], format=\"%Y-%m-%d %H:%M:%S\")\n",
    "df[\"Company\"] = df[\"Company\"].astype(str)\n",
    "df[\"Transaction_type\"] = df[\"Transaction_type\"].astype(\"category\")\n",
    "\n",
    "print(df.dtypes)"
   ]
  },
  {
   "cell_type": "code",
   "execution_count": 15,
   "id": "2bdf6bcd",
   "metadata": {},
   "outputs": [
    {
     "data": {
      "text/html": [
       "<div>\n",
       "<style scoped>\n",
       "    .dataframe tbody tr th:only-of-type {\n",
       "        vertical-align: middle;\n",
       "    }\n",
       "\n",
       "    .dataframe tbody tr th {\n",
       "        vertical-align: top;\n",
       "    }\n",
       "\n",
       "    .dataframe thead th {\n",
       "        text-align: right;\n",
       "    }\n",
       "</style>\n",
       "<table border=\"1\" class=\"dataframe\">\n",
       "  <thead>\n",
       "    <tr style=\"text-align: right;\">\n",
       "      <th></th>\n",
       "      <th>File_Date</th>\n",
       "      <th>Company</th>\n",
       "      <th>Shares_Top_of_Book</th>\n",
       "      <th>Prices_Top_of_Book</th>\n",
       "      <th>Price_of_One_Share</th>\n",
       "      <th>Number_of_Shares_Sold</th>\n",
       "      <th>Transaction_type</th>\n",
       "      <th>Datetime</th>\n",
       "    </tr>\n",
       "  </thead>\n",
       "  <tbody>\n",
       "    <tr>\n",
       "      <th>2</th>\n",
       "      <td>2024-07-10 12:21:57</td>\n",
       "      <td>APPLE INC COM</td>\n",
       "      <td>336.0</td>\n",
       "      <td>230.88</td>\n",
       "      <td>230.92</td>\n",
       "      <td>7.0</td>\n",
       "      <td>bids</td>\n",
       "      <td>2024-07-10 11:21:40</td>\n",
       "    </tr>\n",
       "    <tr>\n",
       "      <th>3</th>\n",
       "      <td>2024-07-10 12:21:57</td>\n",
       "      <td>APPLE INC COM</td>\n",
       "      <td>235.0</td>\n",
       "      <td>230.89</td>\n",
       "      <td>230.92</td>\n",
       "      <td>5.0</td>\n",
       "      <td>bids</td>\n",
       "      <td>2024-07-10 11:21:40</td>\n",
       "    </tr>\n",
       "    <tr>\n",
       "      <th>4</th>\n",
       "      <td>2024-07-10 12:21:57</td>\n",
       "      <td>APPLE INC COM</td>\n",
       "      <td>222.0</td>\n",
       "      <td>230.90</td>\n",
       "      <td>230.92</td>\n",
       "      <td>3.0</td>\n",
       "      <td>bids</td>\n",
       "      <td>2024-07-10 11:21:40</td>\n",
       "    </tr>\n",
       "    <tr>\n",
       "      <th>9</th>\n",
       "      <td>2024-07-10 12:21:57</td>\n",
       "      <td>APPLE INC COM</td>\n",
       "      <td>130.0</td>\n",
       "      <td>230.91</td>\n",
       "      <td>230.92</td>\n",
       "      <td>1.0</td>\n",
       "      <td>bids</td>\n",
       "      <td>2024-07-10 11:21:40</td>\n",
       "    </tr>\n",
       "    <tr>\n",
       "      <th>6</th>\n",
       "      <td>2024-07-10 12:21:57</td>\n",
       "      <td>APPLE INC COM</td>\n",
       "      <td>110.0</td>\n",
       "      <td>230.92</td>\n",
       "      <td>230.91</td>\n",
       "      <td>1.0</td>\n",
       "      <td>bids</td>\n",
       "      <td>2024-07-10 11:21:43</td>\n",
       "    </tr>\n",
       "    <tr>\n",
       "      <th>...</th>\n",
       "      <td>...</td>\n",
       "      <td>...</td>\n",
       "      <td>...</td>\n",
       "      <td>...</td>\n",
       "      <td>...</td>\n",
       "      <td>...</td>\n",
       "      <td>...</td>\n",
       "      <td>...</td>\n",
       "    </tr>\n",
       "    <tr>\n",
       "      <th>1710764</th>\n",
       "      <td>2024-08-06 17:59:10</td>\n",
       "      <td>APPLE INC COM</td>\n",
       "      <td>200.0</td>\n",
       "      <td>205.57</td>\n",
       "      <td>205.57</td>\n",
       "      <td>100.0</td>\n",
       "      <td>asks</td>\n",
       "      <td>2024-08-06 16:58:15</td>\n",
       "    </tr>\n",
       "    <tr>\n",
       "      <th>1710763</th>\n",
       "      <td>2024-08-06 17:59:10</td>\n",
       "      <td>APPLE INC COM</td>\n",
       "      <td>1.0</td>\n",
       "      <td>206.75</td>\n",
       "      <td>205.52</td>\n",
       "      <td>100.0</td>\n",
       "      <td>asks</td>\n",
       "      <td>2024-08-06 16:58:25</td>\n",
       "    </tr>\n",
       "    <tr>\n",
       "      <th>1710761</th>\n",
       "      <td>2024-08-06 17:59:10</td>\n",
       "      <td>APPLE INC COM</td>\n",
       "      <td>2.0</td>\n",
       "      <td>207.71</td>\n",
       "      <td>205.51</td>\n",
       "      <td>31.0</td>\n",
       "      <td>asks</td>\n",
       "      <td>2024-08-06 16:58:38</td>\n",
       "    </tr>\n",
       "    <tr>\n",
       "      <th>1710762</th>\n",
       "      <td>2024-08-06 17:59:10</td>\n",
       "      <td>APPLE INC COM</td>\n",
       "      <td>8.0</td>\n",
       "      <td>207.23</td>\n",
       "      <td>205.51</td>\n",
       "      <td>100.0</td>\n",
       "      <td>asks</td>\n",
       "      <td>2024-08-06 16:58:38</td>\n",
       "    </tr>\n",
       "    <tr>\n",
       "      <th>1710760</th>\n",
       "      <td>2024-08-06 17:59:10</td>\n",
       "      <td>APPLE INC COM</td>\n",
       "      <td>700.0</td>\n",
       "      <td>208.00</td>\n",
       "      <td>205.50</td>\n",
       "      <td>15.0</td>\n",
       "      <td>asks</td>\n",
       "      <td>2024-08-06 16:59:00</td>\n",
       "    </tr>\n",
       "  </tbody>\n",
       "</table>\n",
       "<p>90000 rows × 8 columns</p>\n",
       "</div>"
      ],
      "text/plain": [
       "                  File_Date        Company  Shares_Top_of_Book  \\\n",
       "2       2024-07-10 12:21:57  APPLE INC COM               336.0   \n",
       "3       2024-07-10 12:21:57  APPLE INC COM               235.0   \n",
       "4       2024-07-10 12:21:57  APPLE INC COM               222.0   \n",
       "9       2024-07-10 12:21:57  APPLE INC COM               130.0   \n",
       "6       2024-07-10 12:21:57  APPLE INC COM               110.0   \n",
       "...                     ...            ...                 ...   \n",
       "1710764 2024-08-06 17:59:10  APPLE INC COM               200.0   \n",
       "1710763 2024-08-06 17:59:10  APPLE INC COM                 1.0   \n",
       "1710761 2024-08-06 17:59:10  APPLE INC COM                 2.0   \n",
       "1710762 2024-08-06 17:59:10  APPLE INC COM                 8.0   \n",
       "1710760 2024-08-06 17:59:10  APPLE INC COM               700.0   \n",
       "\n",
       "         Prices_Top_of_Book  Price_of_One_Share  Number_of_Shares_Sold  \\\n",
       "2                    230.88              230.92                    7.0   \n",
       "3                    230.89              230.92                    5.0   \n",
       "4                    230.90              230.92                    3.0   \n",
       "9                    230.91              230.92                    1.0   \n",
       "6                    230.92              230.91                    1.0   \n",
       "...                     ...                 ...                    ...   \n",
       "1710764              205.57              205.57                  100.0   \n",
       "1710763              206.75              205.52                  100.0   \n",
       "1710761              207.71              205.51                   31.0   \n",
       "1710762              207.23              205.51                  100.0   \n",
       "1710760              208.00              205.50                   15.0   \n",
       "\n",
       "        Transaction_type            Datetime  \n",
       "2                   bids 2024-07-10 11:21:40  \n",
       "3                   bids 2024-07-10 11:21:40  \n",
       "4                   bids 2024-07-10 11:21:40  \n",
       "9                   bids 2024-07-10 11:21:40  \n",
       "6                   bids 2024-07-10 11:21:43  \n",
       "...                  ...                 ...  \n",
       "1710764             asks 2024-08-06 16:58:15  \n",
       "1710763             asks 2024-08-06 16:58:25  \n",
       "1710761             asks 2024-08-06 16:58:38  \n",
       "1710762             asks 2024-08-06 16:58:38  \n",
       "1710760             asks 2024-08-06 16:59:00  \n",
       "\n",
       "[90000 rows x 8 columns]"
      ]
     },
     "execution_count": 15,
     "metadata": {},
     "output_type": "execute_result"
    }
   ],
   "source": [
    "threshold = 5 #segundos\n",
    "\n",
    "df['File_Date'] = pd.to_datetime(df['File_Date'])\n",
    "df['group'] = (df['File_Date'] - df['File_Date'].shift().fillna(df['File_Date'].min())).dt.total_seconds().gt(threshold).cumsum()\n",
    "df['File_Date'] = df.groupby('group').transform('first')['File_Date']\n",
    "df.drop('group', axis=1, inplace=True)\n",
    "\n",
    "df #print"
   ]
  },
  {
   "cell_type": "code",
   "execution_count": 17,
   "id": "20db3b45",
   "metadata": {},
   "outputs": [
    {
     "name": "stdout",
     "output_type": "stream",
     "text": [
      "            File_Date        Company  Shares_Top_of_Book  Prices_Top_of_Book  \\\n",
      "1 2024-07-10 12:21:57  APPLE INC COM               431.0              230.99   \n",
      "0 2024-07-10 12:21:57  APPLE INC COM               130.0              230.98   \n",
      "5 2024-07-10 12:21:57  APPLE INC COM               100.0              230.97   \n",
      "7 2024-07-10 12:21:57  APPLE INC COM                 6.0              230.95   \n",
      "8 2024-07-10 12:21:57  APPLE INC COM               100.0              230.96   \n",
      "6 2024-07-10 12:21:57  APPLE INC COM               110.0              230.92   \n",
      "2 2024-07-10 12:21:57  APPLE INC COM               336.0              230.88   \n",
      "3 2024-07-10 12:21:57  APPLE INC COM               235.0              230.89   \n",
      "4 2024-07-10 12:21:57  APPLE INC COM               222.0              230.90   \n",
      "9 2024-07-10 12:21:57  APPLE INC COM               130.0              230.91   \n",
      "\n",
      "   Price_of_One_Share  Number_of_Shares_Sold Transaction_type  \\\n",
      "1              230.94                    1.0             asks   \n",
      "0              230.90                    1.0             asks   \n",
      "5              230.90                  400.0             asks   \n",
      "7              230.91                   52.0             asks   \n",
      "8              230.91                   48.0             asks   \n",
      "6              230.91                    1.0             bids   \n",
      "2              230.92                    7.0             bids   \n",
      "3              230.92                    5.0             bids   \n",
      "4              230.92                    3.0             bids   \n",
      "9              230.92                    1.0             bids   \n",
      "\n",
      "             Datetime  \n",
      "1 2024-07-10 11:21:49  \n",
      "0 2024-07-10 11:21:47  \n",
      "5 2024-07-10 11:21:47  \n",
      "7 2024-07-10 11:21:47  \n",
      "8 2024-07-10 11:21:47  \n",
      "6 2024-07-10 11:21:43  \n",
      "2 2024-07-10 11:21:40  \n",
      "3 2024-07-10 11:21:40  \n",
      "4 2024-07-10 11:21:40  \n",
      "9 2024-07-10 11:21:40  \n"
     ]
    }
   ],
   "source": [
    "df = df.sort_values(by=[\"File_Date\", \"Datetime\"], ascending=[True, False])\n",
    "print(df.head(10))"
   ]
  },
  {
   "cell_type": "markdown",
   "id": "52209bc1",
   "metadata": {},
   "source": [
    "Gerando relatório com o Ydata Profiling"
   ]
  },
  {
   "cell_type": "code",
   "execution_count": 19,
   "id": "d6ee76d0-ea51-4de1-af4e-c9cc434cf7e4",
   "metadata": {},
   "outputs": [
    {
     "data": {
      "application/vnd.jupyter.widget-view+json": {
       "model_id": "061d0d2c68e34d5e8279f662d20841d6",
       "version_major": 2,
       "version_minor": 0
      },
      "text/plain": [
       "Summarize dataset:   0%|          | 0/5 [00:00<?, ?it/s]"
      ]
     },
     "metadata": {},
     "output_type": "display_data"
    },
    {
     "data": {
      "application/vnd.jupyter.widget-view+json": {
       "model_id": "36fd39120a18480b8cbf6cff56b06f8e",
       "version_major": 2,
       "version_minor": 0
      },
      "text/plain": [
       "Generate report structure:   0%|          | 0/1 [00:00<?, ?it/s]"
      ]
     },
     "metadata": {},
     "output_type": "display_data"
    },
    {
     "data": {
      "application/vnd.jupyter.widget-view+json": {
       "model_id": "8242a1f02992463d9890e64a60182fbb",
       "version_major": 2,
       "version_minor": 0
      },
      "text/plain": [
       "Render HTML:   0%|          | 0/1 [00:00<?, ?it/s]"
      ]
     },
     "metadata": {},
     "output_type": "display_data"
    },
    {
     "data": {
      "application/vnd.jupyter.widget-view+json": {
       "model_id": "c6df5d498f944d4f88cf42fa58c5f17c",
       "version_major": 2,
       "version_minor": 0
      },
      "text/plain": [
       "Export report to file:   0%|          | 0/1 [00:00<?, ?it/s]"
      ]
     },
     "metadata": {},
     "output_type": "display_data"
    }
   ],
   "source": [
    "from ydata_profiling import ProfileReport\n",
    "\n",
    "output_path = os.path.join('reports', 'profilling.html')\n",
    "\n",
    "\n",
    "report = ProfileReport(\n",
    "    df,\n",
    "    title=\"Oferta de Ações na Bolsa Estadunidense\",\n",
    "    tsmode=True,\n",
    "    dataset={\n",
    "        \"description\": \"Dados de oferta de compra e venda de ações em 2024\",\n",
    "        \"copyright_year\": 2024\n",
    "    },\n",
    ")\n",
    "\n",
    "report.to_file(output_path)"
   ]
  },
  {
   "cell_type": "code",
   "execution_count": null,
   "id": "4c10738b-a3c9-4005-a174-a302e31daebe",
   "metadata": {},
   "outputs": [],
   "source": []
  }
 ],
 "metadata": {
  "kernelspec": {
   "display_name": "Python 3 (ipykernel)",
   "language": "python",
   "name": "python3"
  },
  "language_info": {
   "codemirror_mode": {
    "name": "ipython",
    "version": 3
   },
   "file_extension": ".py",
   "mimetype": "text/x-python",
   "name": "python",
   "nbconvert_exporter": "python",
   "pygments_lexer": "ipython3",
   "version": "3.10.12"
  }
 },
 "nbformat": 4,
 "nbformat_minor": 5
}
