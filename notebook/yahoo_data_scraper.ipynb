{
 "cells": [
  {
   "cell_type": "code",
   "execution_count": 2,
   "metadata": {},
   "outputs": [
    {
     "name": "stdout",
     "output_type": "stream",
     "text": [
      "Requirement already satisfied: yfinance in /home/ge28/Desktop/Python/trab_final/venv/lib/python3.10/site-packages (0.2.54)\n",
      "Collecting yfinance\n",
      "  Downloading yfinance-0.2.61-py2.py3-none-any.whl (117 kB)\n",
      "\u001b[2K     \u001b[38;2;114;156;31m━━━━━━━━━━━━━━━━━━━━━━━━━━━━━━━━━━━━━━━\u001b[0m \u001b[32m117.9/117.9 KB\u001b[0m \u001b[31m2.1 MB/s\u001b[0m eta \u001b[36m0:00:00\u001b[0m[31m1.1 MB/s\u001b[0m eta \u001b[36m0:00:01\u001b[0m\n",
      "\u001b[?25hRequirement already satisfied: requests>=2.31 in /home/ge28/Desktop/Python/trab_final/venv/lib/python3.10/site-packages (from yfinance) (2.32.3)\n",
      "Requirement already satisfied: protobuf>=3.19.0 in /home/ge28/Desktop/Python/trab_final/venv/lib/python3.10/site-packages (from yfinance) (5.29.4)\n",
      "Requirement already satisfied: peewee>=3.16.2 in /home/ge28/Desktop/Python/trab_final/venv/lib/python3.10/site-packages (from yfinance) (3.17.9)\n",
      "Requirement already satisfied: platformdirs>=2.0.0 in /home/ge28/Desktop/Python/trab_final/venv/lib/python3.10/site-packages (from yfinance) (4.3.7)\n",
      "Requirement already satisfied: numpy>=1.16.5 in /home/ge28/Desktop/Python/trab_final/venv/lib/python3.10/site-packages (from yfinance) (2.2.4)\n",
      "Requirement already satisfied: beautifulsoup4>=4.11.1 in /home/ge28/Desktop/Python/trab_final/venv/lib/python3.10/site-packages (from yfinance) (4.13.3)\n",
      "Requirement already satisfied: pytz>=2022.5 in /home/ge28/Desktop/Python/trab_final/venv/lib/python3.10/site-packages (from yfinance) (2025.1)\n",
      "Requirement already satisfied: websockets>=13.0 in /home/ge28/Desktop/Python/trab_final/venv/lib/python3.10/site-packages (from yfinance) (15.0.1)\n",
      "Requirement already satisfied: pandas>=1.3.0 in /home/ge28/Desktop/Python/trab_final/venv/lib/python3.10/site-packages (from yfinance) (2.2.3)\n",
      "Requirement already satisfied: frozendict>=2.3.4 in /home/ge28/Desktop/Python/trab_final/venv/lib/python3.10/site-packages (from yfinance) (2.4.6)\n",
      "Requirement already satisfied: multitasking>=0.0.7 in /home/ge28/Desktop/Python/trab_final/venv/lib/python3.10/site-packages (from yfinance) (0.0.11)\n",
      "Collecting curl_cffi>=0.7\n",
      "  Downloading curl_cffi-0.11.1-cp39-abi3-manylinux_2_17_x86_64.manylinux2014_x86_64.whl (8.5 MB)\n",
      "\u001b[2K     \u001b[38;2;114;156;31m━━━━━━━━━━━━━━━━━━━━━━━━━━━━━━━━━━━━━━━━\u001b[0m \u001b[32m8.5/8.5 MB\u001b[0m \u001b[31m24.6 MB/s\u001b[0m eta \u001b[36m0:00:00\u001b[0mm eta \u001b[36m0:00:01\u001b[0m0:01\u001b[0m:01\u001b[0m\n",
      "\u001b[?25hRequirement already satisfied: soupsieve>1.2 in /home/ge28/Desktop/Python/trab_final/venv/lib/python3.10/site-packages (from beautifulsoup4>=4.11.1->yfinance) (2.6)\n",
      "Requirement already satisfied: typing-extensions>=4.0.0 in /home/ge28/Desktop/Python/trab_final/venv/lib/python3.10/site-packages (from beautifulsoup4>=4.11.1->yfinance) (4.12.2)\n",
      "Requirement already satisfied: certifi>=2024.2.2 in /home/ge28/Desktop/Python/trab_final/venv/lib/python3.10/site-packages (from curl_cffi>=0.7->yfinance) (2025.1.31)\n",
      "Requirement already satisfied: cffi>=1.12.0 in /home/ge28/Desktop/Python/trab_final/venv/lib/python3.10/site-packages (from curl_cffi>=0.7->yfinance) (1.17.1)\n",
      "Requirement already satisfied: python-dateutil>=2.8.2 in /home/ge28/Desktop/Python/trab_final/venv/lib/python3.10/site-packages (from pandas>=1.3.0->yfinance) (2.9.0.post0)\n",
      "Requirement already satisfied: tzdata>=2022.7 in /home/ge28/Desktop/Python/trab_final/venv/lib/python3.10/site-packages (from pandas>=1.3.0->yfinance) (2025.1)\n",
      "Requirement already satisfied: urllib3<3,>=1.21.1 in /home/ge28/Desktop/Python/trab_final/venv/lib/python3.10/site-packages (from requests>=2.31->yfinance) (2.3.0)\n",
      "Requirement already satisfied: charset-normalizer<4,>=2 in /home/ge28/Desktop/Python/trab_final/venv/lib/python3.10/site-packages (from requests>=2.31->yfinance) (3.4.1)\n",
      "Requirement already satisfied: idna<4,>=2.5 in /home/ge28/Desktop/Python/trab_final/venv/lib/python3.10/site-packages (from requests>=2.31->yfinance) (3.10)\n",
      "Requirement already satisfied: pycparser in /home/ge28/Desktop/Python/trab_final/venv/lib/python3.10/site-packages (from cffi>=1.12.0->curl_cffi>=0.7->yfinance) (2.22)\n",
      "Requirement already satisfied: six>=1.5 in /home/ge28/Desktop/Python/trab_final/venv/lib/python3.10/site-packages (from python-dateutil>=2.8.2->pandas>=1.3.0->yfinance) (1.17.0)\n",
      "Installing collected packages: curl_cffi, yfinance\n",
      "  Attempting uninstall: yfinance\n",
      "    Found existing installation: yfinance 0.2.54\n",
      "    Uninstalling yfinance-0.2.54:\n",
      "      Successfully uninstalled yfinance-0.2.54\n",
      "Successfully installed curl_cffi-0.11.1 yfinance-0.2.61\n"
     ]
    }
   ],
   "source": [
    "!pip install --upgrade yfinance"
   ]
  },
  {
   "cell_type": "code",
   "execution_count": null,
   "metadata": {},
   "outputs": [],
   "source": [
    "import yfinance as yf\n",
    "import pandas as pd\n",
    "\n",
    "# Download ^GSPC data\n",
    "gspc_data = yf.download('^GSPC', \n",
    "                        start='2024-01-01', \n",
    "                        end='2025-06-02',\n",
    "                        interval='1d')\n",
    "\n",
    "gspc_data.to_csv('GSPC_historical_data.csv')"
   ]
  }
 ],
 "metadata": {
  "kernelspec": {
   "display_name": ".venv",
   "language": "python",
   "name": "python3"
  },
  "language_info": {
   "codemirror_mode": {
    "name": "ipython",
    "version": 3
   },
   "file_extension": ".py",
   "mimetype": "text/x-python",
   "name": "python",
   "nbconvert_exporter": "python",
   "pygments_lexer": "ipython3",
   "version": "3.10.12"
  }
 },
 "nbformat": 4,
 "nbformat_minor": 2
}
