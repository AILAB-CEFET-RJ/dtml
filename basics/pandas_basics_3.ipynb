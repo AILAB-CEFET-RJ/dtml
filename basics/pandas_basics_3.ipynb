{
 "cells": [
  {
   "cell_type": "code",
   "execution_count": null,
   "metadata": {},
   "outputs": [],
   "source": [
    "import numpy as np\n",
    "import pandas as pd\n",
    "\n",
    "df = pd.DataFrame({\n",
    "      \"A\": np.tile([\"foo\", \"bar\"], 4),\n",
    "      \"B\": [1, 1, 2, 3, 2, 2, 1, 3],\n",
    "      \"C\": np.random.rand(8),\n",
    "      \"D\": np.random.rand(8)\n",
    "})"
   ]
  },
  {
   "cell_type": "code",
   "execution_count": null,
   "metadata": {},
   "outputs": [],
   "source": [
    "def nl(x):\n",
    "    instrucs = [\"zero\", \"one\", \"two\", \"three\"]\n",
    "    try: return instrucs[x]\n",
    "    except IndexError: return \"unknown\"\n",
    "\n",
    "df[\"B\"] = df[\"B\"].map(nl)\n",
    "df"
   ]
  },
  {
   "cell_type": "code",
   "execution_count": null,
   "metadata": {},
   "outputs": [],
   "source": [
    "df.groupby([\"A\", \"B\"]).sum()"
   ]
  },
  {
   "cell_type": "code",
   "execution_count": null,
   "metadata": {},
   "outputs": [],
   "source": [
    "np.array([np.arange(1, 4)] * 5).T.flatten()"
   ]
  },
  {
   "cell_type": "code",
   "execution_count": null,
   "metadata": {},
   "outputs": [],
   "source": [
    "arrays = [\n",
    "   [\"bar\", \"bar\", \"baz\", \"baz\", \"foo\", \"foo\", \"qux\", \"qux\"],\n",
    "   [\"one\", \"two\", \"one\", \"two\", \"one\", \"two\", \"one\", \"two\"],\n",
    "]\n",
    "index = pd.MultiIndex.from_arrays(arrays)"
   ]
  },
  {
   "cell_type": "code",
   "execution_count": null,
   "metadata": {},
   "outputs": [],
   "source": [
    "df2 = pd.DataFrame(np.random.randn(8, 4), index=arrays)\n",
    "df2"
   ]
  },
  {
   "cell_type": "code",
   "execution_count": null,
   "metadata": {},
   "outputs": [],
   "source": [
    "df2 = pd.DataFrame(np.random.randn(6, 6), index=index[:6], columns=index[:6])\n",
    "with pd.option_context(\"display.multi_sparse\", False):\n",
    "    print(df2)"
   ]
  },
  {
   "cell_type": "code",
   "execution_count": null,
   "metadata": {},
   "outputs": [],
   "source": [
    "index = pd.MultiIndex.from_frame(df.loc[:, \"A\":\"B\"].sort_values(\"A\"))\n",
    "\n",
    "df3 = pd.DataFrame(df.loc[:, \"C\":\"D\"])\n",
    "df3.index = index\n",
    "df3"
   ]
  },
  {
   "cell_type": "code",
   "execution_count": null,
   "metadata": {},
   "outputs": [],
   "source": [
    "df3 = df2.copy()\n",
    "df3.set_index(df2.index.get_level_values(1), inplace=True)\n",
    "\n",
    "df3.columns.names = [\"alpha\", \"beta\"]\n",
    "df3.index.name = \"delta\"\n",
    "df3"
   ]
  },
  {
   "cell_type": "code",
   "execution_count": 217,
   "metadata": {},
   "outputs": [
    {
     "name": "stdout",
     "output_type": "stream",
     "text": [
      "              bar                 baz                 foo          \n",
      "              one       two       one       two       one       two\n",
      "bar one  1.409095 -0.791754  0.354024 -0.233695  0.534192 -1.024922\n",
      "    two  1.203406  0.399204  0.920946 -1.997364 -0.730342  0.229002\n",
      "baz one  1.580142  0.848269 -0.869630 -0.847738  0.439828  0.219251\n",
      "    two -0.563354 -1.006769  0.688702  0.055826  0.200385  0.073827\n",
      "foo one  0.852075 -1.561533 -0.201440 -0.502233 -0.915588 -0.023351\n",
      "    two -0.509211  1.596773  0.058426  0.708371  0.703225  0.804091\n"
     ]
    },
    {
     "data": {
      "text/html": [
       "<div>\n",
       "<style scoped>\n",
       "    .dataframe tbody tr th:only-of-type {\n",
       "        vertical-align: middle;\n",
       "    }\n",
       "\n",
       "    .dataframe tbody tr th {\n",
       "        vertical-align: top;\n",
       "    }\n",
       "\n",
       "    .dataframe thead th {\n",
       "        text-align: right;\n",
       "    }\n",
       "</style>\n",
       "<table border=\"1\" class=\"dataframe\">\n",
       "  <thead>\n",
       "    <tr style=\"text-align: right;\">\n",
       "      <th></th>\n",
       "      <th></th>\n",
       "      <th></th>\n",
       "      <th>bar</th>\n",
       "      <th>baz</th>\n",
       "      <th>foo</th>\n",
       "    </tr>\n",
       "  </thead>\n",
       "  <tbody>\n",
       "    <tr>\n",
       "      <th rowspan=\"4\" valign=\"top\">bar</th>\n",
       "      <th rowspan=\"2\" valign=\"top\">one</th>\n",
       "      <th>one</th>\n",
       "      <td>1.409095</td>\n",
       "      <td>0.354024</td>\n",
       "      <td>0.534192</td>\n",
       "    </tr>\n",
       "    <tr>\n",
       "      <th>two</th>\n",
       "      <td>-0.791754</td>\n",
       "      <td>-0.233695</td>\n",
       "      <td>-1.024922</td>\n",
       "    </tr>\n",
       "    <tr>\n",
       "      <th rowspan=\"2\" valign=\"top\">two</th>\n",
       "      <th>one</th>\n",
       "      <td>1.203406</td>\n",
       "      <td>0.920946</td>\n",
       "      <td>-0.730342</td>\n",
       "    </tr>\n",
       "    <tr>\n",
       "      <th>two</th>\n",
       "      <td>0.399204</td>\n",
       "      <td>-1.997364</td>\n",
       "      <td>0.229002</td>\n",
       "    </tr>\n",
       "    <tr>\n",
       "      <th rowspan=\"4\" valign=\"top\">baz</th>\n",
       "      <th rowspan=\"2\" valign=\"top\">one</th>\n",
       "      <th>one</th>\n",
       "      <td>1.580142</td>\n",
       "      <td>-0.869630</td>\n",
       "      <td>0.439828</td>\n",
       "    </tr>\n",
       "    <tr>\n",
       "      <th>two</th>\n",
       "      <td>0.848269</td>\n",
       "      <td>-0.847738</td>\n",
       "      <td>0.219251</td>\n",
       "    </tr>\n",
       "    <tr>\n",
       "      <th rowspan=\"2\" valign=\"top\">two</th>\n",
       "      <th>one</th>\n",
       "      <td>-0.563354</td>\n",
       "      <td>0.688702</td>\n",
       "      <td>0.200385</td>\n",
       "    </tr>\n",
       "    <tr>\n",
       "      <th>two</th>\n",
       "      <td>-1.006769</td>\n",
       "      <td>0.055826</td>\n",
       "      <td>0.073827</td>\n",
       "    </tr>\n",
       "    <tr>\n",
       "      <th rowspan=\"4\" valign=\"top\">foo</th>\n",
       "      <th rowspan=\"2\" valign=\"top\">one</th>\n",
       "      <th>one</th>\n",
       "      <td>0.852075</td>\n",
       "      <td>-0.201440</td>\n",
       "      <td>-0.915588</td>\n",
       "    </tr>\n",
       "    <tr>\n",
       "      <th>two</th>\n",
       "      <td>-1.561533</td>\n",
       "      <td>-0.502233</td>\n",
       "      <td>-0.023351</td>\n",
       "    </tr>\n",
       "    <tr>\n",
       "      <th rowspan=\"2\" valign=\"top\">two</th>\n",
       "      <th>one</th>\n",
       "      <td>-0.509211</td>\n",
       "      <td>0.058426</td>\n",
       "      <td>0.703225</td>\n",
       "    </tr>\n",
       "    <tr>\n",
       "      <th>two</th>\n",
       "      <td>1.596773</td>\n",
       "      <td>0.708371</td>\n",
       "      <td>0.804091</td>\n",
       "    </tr>\n",
       "  </tbody>\n",
       "</table>\n",
       "</div>"
      ],
      "text/plain": [
       "                  bar       baz       foo\n",
       "bar one one  1.409095  0.354024  0.534192\n",
       "        two -0.791754 -0.233695 -1.024922\n",
       "    two one  1.203406  0.920946 -0.730342\n",
       "        two  0.399204 -1.997364  0.229002\n",
       "baz one one  1.580142 -0.869630  0.439828\n",
       "        two  0.848269 -0.847738  0.219251\n",
       "    two one -0.563354  0.688702  0.200385\n",
       "        two -1.006769  0.055826  0.073827\n",
       "foo one one  0.852075 -0.201440 -0.915588\n",
       "        two -1.561533 -0.502233 -0.023351\n",
       "    two one -0.509211  0.058426  0.703225\n",
       "        two  1.596773  0.708371  0.804091"
      ]
     },
     "execution_count": 217,
     "metadata": {},
     "output_type": "execute_result"
    }
   ],
   "source": [
    "print(df2)\n",
    "stacked = df2.stack(future_stack=True)\n",
    "stacked"
   ]
  },
  {
   "cell_type": "code",
   "execution_count": 218,
   "metadata": {},
   "outputs": [
    {
     "data": {
      "text/plain": [
       "FrozenList([['bar', 'baz', 'foo', 'qux'], ['one', 'two']])"
      ]
     },
     "execution_count": 218,
     "metadata": {},
     "output_type": "execute_result"
    }
   ],
   "source": [
    "df2.columns.levels"
   ]
  },
  {
   "cell_type": "code",
   "execution_count": null,
   "metadata": {},
   "outputs": [],
   "source": [
    "def mklbl(prefix, n):\n",
    "    return [\"%s%s\" % (prefix, i) for i in range(n)]\n",
    "\n",
    "miindex = pd.MultiIndex.from_product(\n",
    "    [mklbl(\"A\", 4), mklbl(\"B\", 2), mklbl(\"C\", 4), mklbl(\"D\", 2)]\n",
    ")\n",
    "\n",
    "micolumns = pd.MultiIndex.from_tuples(\n",
    "    [(\"a\", \"foo\"), (\"a\", \"bar\"), (\"b\", \"foo\"), (\"b\", \"bah\")], names=[\"lvl0\", \"lvl1\"]\n",
    ")\n",
    "\n",
    "dfmi = (\n",
    "    pd.DataFrame(\n",
    "        np.arange(len(miindex) * len(micolumns)).reshape(\n",
    "            (len(miindex), len(micolumns))\n",
    "        ),\n",
    "        index=miindex,\n",
    "        columns=micolumns,\n",
    "    )\n",
    "    .sort_index()\n",
    "    .sort_index(axis=1)\n",
    ")\n",
    "dfmi"
   ]
  },
  {
   "cell_type": "code",
   "execution_count": null,
   "metadata": {},
   "outputs": [],
   "source": [
    "dfmi.loc[(slice(\"A1\", \"A3\"), slice(None), [\"C1\", \"C3\"]), :]\n",
    "with pd.option_context(\"display.multi_sparse\", False):\n",
    "    print(dfmi.loc[(slice(\"A1\", \"A3\"), slice(None), [\"C1\", \"C3\"]), :])"
   ]
  }
 ],
 "metadata": {
  "kernelspec": {
   "display_name": "venv",
   "language": "python",
   "name": "python3"
  },
  "language_info": {
   "codemirror_mode": {
    "name": "ipython",
    "version": 3
   },
   "file_extension": ".py",
   "mimetype": "text/x-python",
   "name": "python",
   "nbconvert_exporter": "python",
   "pygments_lexer": "ipython3",
   "version": "3.10.12"
  }
 },
 "nbformat": 4,
 "nbformat_minor": 2
}
