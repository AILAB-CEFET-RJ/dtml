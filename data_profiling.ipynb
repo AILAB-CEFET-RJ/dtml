{
 "cells": [
  {
   "cell_type": "markdown",
   "id": "54a49ae9",
   "metadata": {},
   "source": [
    "Separando ações de interesse"
   ]
  },
  {
   "cell_type": "code",
   "execution_count": 1,
   "id": "9226b400-0980-4b30-8449-19fda416cd30",
   "metadata": {},
   "outputs": [],
   "source": [
    "import os\n",
    "import pandas as pd\n",
    "\n",
    "input_path = os.path.join('data', 'local_copy.csv')\n",
    "output_path = os.path.join('data', 'target_stocks.csv')\n",
    "df = pd.read_csv(input_path, sep=\",\")\n",
    "\n",
    "# Filtrando valores\n",
    "df = df[df[\"Company\"] == \"AAPL\"]\n",
    "\n",
    "# Exportando para arquivo\n",
    "df.to_csv(path_or_buf=output_path, sep=\",\", index=False)"
   ]
  },
  {
   "cell_type": "markdown",
   "id": "ac5760dc",
   "metadata": {},
   "source": [
    "Convertendo para os tipos adequados"
   ]
  },
  {
   "cell_type": "code",
   "execution_count": 2,
   "id": "573f907b-a59a-4c3c-a038-b4c4c3fdae94",
   "metadata": {},
   "outputs": [
    {
     "name": "stdout",
     "output_type": "stream",
     "text": [
      "File_Date                datetime64[ns]\n",
      "Company                          object\n",
      "Shares_Top_of_Book                int64\n",
      "Prices_Top_of_Book              float64\n",
      "Price_of_One_Share              float64\n",
      "Number_of_Shares_Sold             int64\n",
      "Transaction_type                  int64\n",
      "Datetime                 datetime64[ns]\n",
      "dtype: object\n"
     ]
    }
   ],
   "source": [
    "df = pd.read_csv(output_path, sep=\",\", parse_dates=[\"Date\", \"File_Date\"])\n",
    "\n",
    "df[\"Date\"] = df[\"Date\"].astype(str)\n",
    "df[\"Time\"] = df[\"Time\"].astype(str)\n",
    "df[\"Datetime\"] = df[\"Date\"] + \" \" + df[\"Time\"]\n",
    "df = df.drop([\"Date\", \"Time\"], axis=1)\n",
    "\n",
    "df[\"Datetime\"] = pd.to_datetime(df[\"Datetime\"], format=\"%Y-%m-%d %H:%M:%S\")\n",
    "df[\"Company\"] = df[\"Company\"].astype(str)\n",
    "df[\"Transaction_type\"] = df[\"Transaction_type\"].apply(lambda x: 0 if x == \"asks\" else 1)\n",
    "\n",
    "data_types = df.dtypes\n",
    "print(data_types)"
   ]
  },
  {
   "cell_type": "markdown",
   "id": "52209bc1",
   "metadata": {},
   "source": [
    "Gerando relatório com o Ydata Profiling"
   ]
  },
  {
   "cell_type": "code",
   "execution_count": 3,
   "id": "d6ee76d0-ea51-4de1-af4e-c9cc434cf7e4",
   "metadata": {},
   "outputs": [
    {
     "data": {
      "application/vnd.jupyter.widget-view+json": {
       "model_id": "33a309db3f784ee6a4308b9b5f3add39",
       "version_major": 2,
       "version_minor": 0
      },
      "text/plain": [
       "Summarize dataset:   0%|          | 0/5 [00:00<?, ?it/s]"
      ]
     },
     "metadata": {},
     "output_type": "display_data"
    },
    {
     "data": {
      "application/vnd.jupyter.widget-view+json": {
       "model_id": "643bd40100d145a68f8e3f04af135591",
       "version_major": 2,
       "version_minor": 0
      },
      "text/plain": [
       "Generate report structure:   0%|          | 0/1 [00:00<?, ?it/s]"
      ]
     },
     "metadata": {},
     "output_type": "display_data"
    },
    {
     "data": {
      "application/vnd.jupyter.widget-view+json": {
       "model_id": "76e599a3ed324366824d679348014c6e",
       "version_major": 2,
       "version_minor": 0
      },
      "text/plain": [
       "Render HTML:   0%|          | 0/1 [00:00<?, ?it/s]"
      ]
     },
     "metadata": {},
     "output_type": "display_data"
    },
    {
     "data": {
      "application/vnd.jupyter.widget-view+json": {
       "model_id": "99a3907afbfc457391eaee8f48ac08fb",
       "version_major": 2,
       "version_minor": 0
      },
      "text/plain": [
       "Export report to file:   0%|          | 0/1 [00:00<?, ?it/s]"
      ]
     },
     "metadata": {},
     "output_type": "display_data"
    }
   ],
   "source": [
    "from ydata_profiling import ProfileReport\n",
    "\n",
    "output_path = os.path.join('reports', 'profilling.html')\n",
    "\n",
    "\n",
    "report = ProfileReport(\n",
    "    df,\n",
    "    title=\"Oferta de Ações na Bolsa Estadunidense\",\n",
    "    tsmode=True,\n",
    "    dataset={\n",
    "        \"description\": \"Dados de oferta de compra e venda de ações em 2022\",\n",
    "        \"copyright_year\": 2024\n",
    "    },\n",
    ")\n",
    "\n",
    "report.to_file(output_path)"
   ]
  },
  {
   "cell_type": "code",
   "execution_count": null,
   "id": "4c10738b-a3c9-4005-a174-a302e31daebe",
   "metadata": {},
   "outputs": [],
   "source": []
  }
 ],
 "metadata": {
  "kernelspec": {
   "display_name": "Python 3 (ipykernel)",
   "language": "python",
   "name": "python3"
  },
  "language_info": {
   "codemirror_mode": {
    "name": "ipython",
    "version": 3
   },
   "file_extension": ".py",
   "mimetype": "text/x-python",
   "name": "python",
   "nbconvert_exporter": "python",
   "pygments_lexer": "ipython3",
   "version": "3.10.12"
  }
 },
 "nbformat": 4,
 "nbformat_minor": 5
}
